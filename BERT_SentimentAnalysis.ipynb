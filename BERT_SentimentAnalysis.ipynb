{
  "nbformat": 4,
  "nbformat_minor": 0,
  "metadata": {
    "colab": {
      "name": "BERT_SentimentAnalysis.ipynb",
      "provenance": [],
      "collapsed_sections": [],
      "toc_visible": true,
      "authorship_tag": "ABX9TyMjTOUUYsrtVtxOQPpwgION",
      "include_colab_link": true
    },
    "kernelspec": {
      "name": "python3",
      "display_name": "Python 3"
    },
    "accelerator": "GPU"
  },
  "cells": [
    {
      "cell_type": "markdown",
      "metadata": {
        "id": "view-in-github",
        "colab_type": "text"
      },
      "source": [
        "<a href=\"https://colab.research.google.com/github/amitadhainje/CodingAssignment-UBS/blob/master/BERT_SentimentAnalysis.ipynb\" target=\"_parent\"><img src=\"https://colab.research.google.com/assets/colab-badge.svg\" alt=\"Open In Colab\"/></a>"
      ]
    },
    {
      "cell_type": "code",
      "metadata": {
        "id": "dGT3gjdCXVpe",
        "colab_type": "code",
        "outputId": "4cb0f995-70c6-45c8-c597-d78de697adc3",
        "colab": {
          "base_uri": "https://localhost:8080/",
          "height": 513
        }
      },
      "source": [
        "#Installing the required modules\n",
        "!pip install bert-for-tf2\n",
        "!pip install sentencepiece\n",
        "print (\"The modules like bert-for-tf2 and sentencepiece is installed\")"
      ],
      "execution_count": 3,
      "outputs": [
        {
          "output_type": "stream",
          "text": [
            "Collecting bert-for-tf2\n",
            "\u001b[?25l  Downloading https://files.pythonhosted.org/packages/4c/2a/79f44178ac6f5b6995bc7804898fce2654da70e0c5c7f76332748420d6fd/bert-for-tf2-0.13.5.tar.gz (40kB)\n",
            "\r\u001b[K     |████████▏                       | 10kB 26.7MB/s eta 0:00:01\r\u001b[K     |████████████████▎               | 20kB 33.5MB/s eta 0:00:01\r\u001b[K     |████████████████████████▍       | 30kB 36.5MB/s eta 0:00:01\r\u001b[K     |████████████████████████████████| 40kB 6.0MB/s \n",
            "\u001b[?25hCollecting py-params>=0.7.3\n",
            "  Downloading https://files.pythonhosted.org/packages/e1/aa/a143f0193a4fb5c7f8aa816b30366e441ff6ffe6cda4887e4c01300c4b01/py-params-0.8.3.tar.gz\n",
            "Collecting params-flow>=0.7.1\n",
            "  Downloading https://files.pythonhosted.org/packages/0d/12/2604f88932f285a473015a5adabf08496d88dad0f9c1228fab1547ccc9b5/params-flow-0.7.4.tar.gz\n",
            "Requirement already satisfied: numpy in /usr/local/lib/python3.6/dist-packages (from params-flow>=0.7.1->bert-for-tf2) (1.18.1)\n",
            "Requirement already satisfied: tqdm in /usr/local/lib/python3.6/dist-packages (from params-flow>=0.7.1->bert-for-tf2) (4.28.1)\n",
            "Building wheels for collected packages: bert-for-tf2, py-params, params-flow\n",
            "  Building wheel for bert-for-tf2 (setup.py) ... \u001b[?25l\u001b[?25hdone\n",
            "  Created wheel for bert-for-tf2: filename=bert_for_tf2-0.13.5-cp36-none-any.whl size=29948 sha256=f09310806f83a532b9a7ee36a24c33397148d19e87ef875db12f16b91640c471\n",
            "  Stored in directory: /root/.cache/pip/wheels/ed/11/48/86aff8a0442aa4728c921027a4100ac28878e9d977e76e2d52\n",
            "  Building wheel for py-params (setup.py) ... \u001b[?25l\u001b[?25hdone\n",
            "  Created wheel for py-params: filename=py_params-0.8.3-cp36-none-any.whl size=4690 sha256=caf4ace70f4aced87046f4540a0a454bb5dd91fc07da85d22112d4b065363b15\n",
            "  Stored in directory: /root/.cache/pip/wheels/1a/98/f8/502fc6b5a7c969276f611efeef0d074c871092d38672203b27\n",
            "  Building wheel for params-flow (setup.py) ... \u001b[?25l\u001b[?25hdone\n",
            "  Created wheel for params-flow: filename=params_flow-0.7.4-cp36-none-any.whl size=16195 sha256=4f5d837b67dd382a709640ab03b59b4c480c19af30cc41ed7f34fbc85986bcb5\n",
            "  Stored in directory: /root/.cache/pip/wheels/86/30/40/507b60d68b67ac87f35e95c98f5b296a32f146d5ae1d1d5aa7\n",
            "Successfully built bert-for-tf2 py-params params-flow\n",
            "Installing collected packages: py-params, params-flow, bert-for-tf2\n",
            "Successfully installed bert-for-tf2-0.13.5 params-flow-0.7.4 py-params-0.8.3\n",
            "Collecting sentencepiece\n",
            "\u001b[?25l  Downloading https://files.pythonhosted.org/packages/74/f4/2d5214cbf13d06e7cb2c20d84115ca25b53ea76fa1f0ade0e3c9749de214/sentencepiece-0.1.85-cp36-cp36m-manylinux1_x86_64.whl (1.0MB)\n",
            "\u001b[K     |████████████████████████████████| 1.0MB 10.8MB/s \n",
            "\u001b[?25hInstalling collected packages: sentencepiece\n",
            "Successfully installed sentencepiece-0.1.85\n",
            "The modules like bert-for-tf2 and sentencepiece is installed\n"
          ],
          "name": "stdout"
        }
      ]
    },
    {
      "cell_type": "code",
      "metadata": {
        "id": "57K5VP8wUhLe",
        "colab_type": "code",
        "colab": {}
      },
      "source": [
        "import numpy as np\n",
        "import math\n",
        "import re\n",
        "import pandas as pd\n",
        "from bs4 import BeautifulSoup"
      ],
      "execution_count": 0,
      "outputs": []
    },
    {
      "cell_type": "code",
      "metadata": {
        "id": "kiiRiBAYeEX4",
        "colab_type": "code",
        "colab": {}
      },
      "source": [
        "try:\n",
        "    %tensorflow_version 2.x\n",
        "except Exception:\n",
        "    pass\n",
        "\n",
        "import tensorflow as tf\n",
        "import tensorflow_hub as hub\n",
        "from tensorflow.keras import layers\n",
        "import bert\n"
      ],
      "execution_count": 0,
      "outputs": []
    },
    {
      "cell_type": "code",
      "metadata": {
        "id": "Gz9mrXrCsEHA",
        "colab_type": "code",
        "outputId": "7ef7dbcb-0ea1-43e9-e4a4-e43f23b86940",
        "colab": {
          "base_uri": "https://localhost:8080/",
          "height": 85
        }
      },
      "source": [
        "print (\"The tensorflow version - \",tf.__version__)\n",
        "print (\"The tensorflow_hub  version - \",hub.__version__)\n",
        "print (\"The pandas version - \",pd.__version__)\n",
        "print (\"The numpy version - \",np.__version__)\n",
        "#print (\"The sentencepiece version - \",pd.__version__)"
      ],
      "execution_count": 6,
      "outputs": [
        {
          "output_type": "stream",
          "text": [
            "The tensorflow version -  2.1.0\n",
            "The tensorflow_hub  version -  0.7.0\n",
            "The pandas version -  0.25.3\n",
            "The numpy version -  1.18.1\n"
          ],
          "name": "stdout"
        }
      ]
    },
    {
      "cell_type": "code",
      "metadata": {
        "id": "zsd1Oe3rO7gA",
        "colab_type": "code",
        "colab": {
          "base_uri": "https://localhost:8080/",
          "height": 122
        },
        "outputId": "f5fa49af-1b6c-4b73-fa09-723556ce12cc"
      },
      "source": [
        "from google.colab import drive\n",
        "drive.mount('/content/drive')"
      ],
      "execution_count": 10,
      "outputs": [
        {
          "output_type": "stream",
          "text": [
            "Go to this URL in a browser: https://accounts.google.com/o/oauth2/auth?client_id=947318989803-6bn6qk8qdgf4n4g3pfee6491hc0brc4i.apps.googleusercontent.com&redirect_uri=urn%3aietf%3awg%3aoauth%3a2.0%3aoob&response_type=code&scope=email%20https%3a%2f%2fwww.googleapis.com%2fauth%2fdocs.test%20https%3a%2f%2fwww.googleapis.com%2fauth%2fdrive%20https%3a%2f%2fwww.googleapis.com%2fauth%2fdrive.photos.readonly%20https%3a%2f%2fwww.googleapis.com%2fauth%2fpeopleapi.readonly\n",
            "\n",
            "Enter your authorization code:\n",
            "··········\n",
            "Mounted at /content/drive\n"
          ],
          "name": "stdout"
        }
      ]
    },
    {
      "cell_type": "code",
      "metadata": {
        "id": "vP89iKJe-xkD",
        "colab_type": "code",
        "colab": {
          "base_uri": "https://localhost:8080/",
          "height": 68
        },
        "outputId": "b87067fc-8f36-4ed5-819c-81b22f13515c"
      },
      "source": [
        "!ls -ltr /content/drive/My Drive/Colab Notebooks/train.csv"
      ],
      "execution_count": 16,
      "outputs": [
        {
          "output_type": "stream",
          "text": [
            "ls: cannot access '/content/drive/My': No such file or directory\n",
            "ls: cannot access 'Drive/Colab': No such file or directory\n",
            "ls: cannot access 'Notebooks/train.csv': No such file or directory\n"
          ],
          "name": "stdout"
        }
      ]
    },
    {
      "cell_type": "code",
      "metadata": {
        "id": "mT-x2g6qILRl",
        "colab_type": "code",
        "outputId": "8b8389a8-f446-4527-dc65-df775c2863d7",
        "colab": {
          "base_uri": "https://localhost:8080/",
          "height": 289
        }
      },
      "source": [
        "columns = ['sentiment', 'id', 'date', 'query','user', 'text']\n",
        "trainData = pd.read_csv(\"/content/drive/My Drive/Colab Notebooks/train.csv\", header=None, names=columns,\n",
        "                   engine=\"python\", encoding='latin1')\n",
        "\n",
        "#positiveData = dataset[dataset['sentiment'] == 4][0:50000]\n",
        "#negativeData = dataset[dataset['sentiment'] == 0][0:50000]\n",
        "#frames = [positiveData, negativeData]\n",
        "#trainData = pd.concat(frames)\n",
        "trainData.head()"
      ],
      "execution_count": 139,
      "outputs": [
        {
          "output_type": "execute_result",
          "data": {
            "text/html": [
              "<div>\n",
              "<style scoped>\n",
              "    .dataframe tbody tr th:only-of-type {\n",
              "        vertical-align: middle;\n",
              "    }\n",
              "\n",
              "    .dataframe tbody tr th {\n",
              "        vertical-align: top;\n",
              "    }\n",
              "\n",
              "    .dataframe thead th {\n",
              "        text-align: right;\n",
              "    }\n",
              "</style>\n",
              "<table border=\"1\" class=\"dataframe\">\n",
              "  <thead>\n",
              "    <tr style=\"text-align: right;\">\n",
              "      <th></th>\n",
              "      <th>sentiment</th>\n",
              "      <th>id</th>\n",
              "      <th>date</th>\n",
              "      <th>query</th>\n",
              "      <th>user</th>\n",
              "      <th>text</th>\n",
              "    </tr>\n",
              "  </thead>\n",
              "  <tbody>\n",
              "    <tr>\n",
              "      <th>0</th>\n",
              "      <td>0</td>\n",
              "      <td>1467810369</td>\n",
              "      <td>Mon Apr 06 22:19:45 PDT 2009</td>\n",
              "      <td>NO_QUERY</td>\n",
              "      <td>_TheSpecialOne_</td>\n",
              "      <td>@switchfoot http://twitpic.com/2y1zl - Awww, t...</td>\n",
              "    </tr>\n",
              "    <tr>\n",
              "      <th>1</th>\n",
              "      <td>0</td>\n",
              "      <td>1467810672</td>\n",
              "      <td>Mon Apr 06 22:19:49 PDT 2009</td>\n",
              "      <td>NO_QUERY</td>\n",
              "      <td>scotthamilton</td>\n",
              "      <td>is upset that he can't update his Facebook by ...</td>\n",
              "    </tr>\n",
              "    <tr>\n",
              "      <th>2</th>\n",
              "      <td>0</td>\n",
              "      <td>1467810917</td>\n",
              "      <td>Mon Apr 06 22:19:53 PDT 2009</td>\n",
              "      <td>NO_QUERY</td>\n",
              "      <td>mattycus</td>\n",
              "      <td>@Kenichan I dived many times for the ball. Man...</td>\n",
              "    </tr>\n",
              "    <tr>\n",
              "      <th>3</th>\n",
              "      <td>0</td>\n",
              "      <td>1467811184</td>\n",
              "      <td>Mon Apr 06 22:19:57 PDT 2009</td>\n",
              "      <td>NO_QUERY</td>\n",
              "      <td>ElleCTF</td>\n",
              "      <td>my whole body feels itchy and like its on fire</td>\n",
              "    </tr>\n",
              "    <tr>\n",
              "      <th>4</th>\n",
              "      <td>0</td>\n",
              "      <td>1467811193</td>\n",
              "      <td>Mon Apr 06 22:19:57 PDT 2009</td>\n",
              "      <td>NO_QUERY</td>\n",
              "      <td>Karoli</td>\n",
              "      <td>@nationwideclass no, it's not behaving at all....</td>\n",
              "    </tr>\n",
              "  </tbody>\n",
              "</table>\n",
              "</div>"
            ],
            "text/plain": [
              "   sentiment  ...                                               text\n",
              "0          0  ...  @switchfoot http://twitpic.com/2y1zl - Awww, t...\n",
              "1          0  ...  is upset that he can't update his Facebook by ...\n",
              "2          0  ...  @Kenichan I dived many times for the ball. Man...\n",
              "3          0  ...    my whole body feels itchy and like its on fire \n",
              "4          0  ...  @nationwideclass no, it's not behaving at all....\n",
              "\n",
              "[5 rows x 6 columns]"
            ]
          },
          "metadata": {
            "tags": []
          },
          "execution_count": 139
        }
      ]
    },
    {
      "cell_type": "code",
      "metadata": {
        "id": "u8kQLILyU3PV",
        "colab_type": "code",
        "colab": {
          "base_uri": "https://localhost:8080/",
          "height": 34
        },
        "outputId": "f4ab3e0b-2373-4c06-9def-15fc40f55783"
      },
      "source": [
        "trainData.shape"
      ],
      "execution_count": 140,
      "outputs": [
        {
          "output_type": "execute_result",
          "data": {
            "text/plain": [
              "(1600000, 6)"
            ]
          },
          "metadata": {
            "tags": []
          },
          "execution_count": 140
        }
      ]
    },
    {
      "cell_type": "code",
      "metadata": {
        "id": "vw1ie7sib72T",
        "colab_type": "code",
        "outputId": "76110723-0ac7-459f-9e15-8b0a3edf87be",
        "colab": {
          "base_uri": "https://localhost:8080/",
          "height": 204
        }
      },
      "source": [
        "trainData.drop(['id','date','query','user'], axis=1, inplace=True)\n",
        "trainData.head()"
      ],
      "execution_count": 141,
      "outputs": [
        {
          "output_type": "execute_result",
          "data": {
            "text/html": [
              "<div>\n",
              "<style scoped>\n",
              "    .dataframe tbody tr th:only-of-type {\n",
              "        vertical-align: middle;\n",
              "    }\n",
              "\n",
              "    .dataframe tbody tr th {\n",
              "        vertical-align: top;\n",
              "    }\n",
              "\n",
              "    .dataframe thead th {\n",
              "        text-align: right;\n",
              "    }\n",
              "</style>\n",
              "<table border=\"1\" class=\"dataframe\">\n",
              "  <thead>\n",
              "    <tr style=\"text-align: right;\">\n",
              "      <th></th>\n",
              "      <th>sentiment</th>\n",
              "      <th>text</th>\n",
              "    </tr>\n",
              "  </thead>\n",
              "  <tbody>\n",
              "    <tr>\n",
              "      <th>0</th>\n",
              "      <td>0</td>\n",
              "      <td>@switchfoot http://twitpic.com/2y1zl - Awww, t...</td>\n",
              "    </tr>\n",
              "    <tr>\n",
              "      <th>1</th>\n",
              "      <td>0</td>\n",
              "      <td>is upset that he can't update his Facebook by ...</td>\n",
              "    </tr>\n",
              "    <tr>\n",
              "      <th>2</th>\n",
              "      <td>0</td>\n",
              "      <td>@Kenichan I dived many times for the ball. Man...</td>\n",
              "    </tr>\n",
              "    <tr>\n",
              "      <th>3</th>\n",
              "      <td>0</td>\n",
              "      <td>my whole body feels itchy and like its on fire</td>\n",
              "    </tr>\n",
              "    <tr>\n",
              "      <th>4</th>\n",
              "      <td>0</td>\n",
              "      <td>@nationwideclass no, it's not behaving at all....</td>\n",
              "    </tr>\n",
              "  </tbody>\n",
              "</table>\n",
              "</div>"
            ],
            "text/plain": [
              "   sentiment                                               text\n",
              "0          0  @switchfoot http://twitpic.com/2y1zl - Awww, t...\n",
              "1          0  is upset that he can't update his Facebook by ...\n",
              "2          0  @Kenichan I dived many times for the ball. Man...\n",
              "3          0    my whole body feels itchy and like its on fire \n",
              "4          0  @nationwideclass no, it's not behaving at all...."
            ]
          },
          "metadata": {
            "tags": []
          },
          "execution_count": 141
        }
      ]
    },
    {
      "cell_type": "code",
      "metadata": {
        "id": "OcLK9-tVcrBB",
        "colab_type": "code",
        "outputId": "81a828db-e84d-413b-e5a9-d359398ec907",
        "colab": {
          "base_uri": "https://localhost:8080/",
          "height": 68
        }
      },
      "source": [
        "trainData['sentiment'].value_counts()"
      ],
      "execution_count": 142,
      "outputs": [
        {
          "output_type": "execute_result",
          "data": {
            "text/plain": [
              "4    800000\n",
              "0    800000\n",
              "Name: sentiment, dtype: int64"
            ]
          },
          "metadata": {
            "tags": []
          },
          "execution_count": 142
        }
      ]
    },
    {
      "cell_type": "code",
      "metadata": {
        "id": "vH9cv2rRUHnn",
        "colab_type": "code",
        "colab": {}
      },
      "source": [
        "def clean_tweet(tweet):\n",
        "    tweet = BeautifulSoup(tweet, 'lxml').get_text()\n",
        "    tweet = re.sub(r\"@[A-Z-a-z-0-9]+\", ' ', tweet)\n",
        "    tweet = re.sub(r\"https?://[A-Z-a-z-0-9./]+\", ' ', tweet)\n",
        "    tweet = re.sub(r\"[^a-zA-Z0-9.!?']\", ' ', tweet)\n",
        "    tweet = re.sub(r\" +\", ' ', tweet)\n",
        "    return tweet\n",
        "\n",
        "data_clean = [clean_tweet(tweet) for tweet in trainData.text]"
      ],
      "execution_count": 0,
      "outputs": []
    },
    {
      "cell_type": "code",
      "metadata": {
        "id": "Un58BOLxVwsB",
        "colab_type": "code",
        "outputId": "098e953e-255c-4a65-9e6d-ad5b82f5fc5a",
        "colab": {
          "base_uri": "https://localhost:8080/",
          "height": 34
        }
      },
      "source": [
        "data_clean[0]"
      ],
      "execution_count": 144,
      "outputs": [
        {
          "output_type": "execute_result",
          "data": {
            "text/plain": [
              "\" Awww that's a bummer. You shoulda got David Carr of Third Day to do it. D\""
            ]
          },
          "metadata": {
            "tags": []
          },
          "execution_count": 144
        }
      ]
    },
    {
      "cell_type": "code",
      "metadata": {
        "id": "Ri_TG3IVWWLz",
        "colab_type": "code",
        "colab": {}
      },
      "source": [
        "data_labels = trainData.sentiment.values\n",
        "data_labels[data_labels == 4] = 1"
      ],
      "execution_count": 0,
      "outputs": []
    },
    {
      "cell_type": "code",
      "metadata": {
        "id": "qGjrHgpRWwia",
        "colab_type": "code",
        "colab": {}
      },
      "source": [
        "FullTokenizer = bert.bert_tokenization.FullTokenizer\n",
        "bert_layer = hub.KerasLayer('https://tfhub.dev/tensorflow/bert_en_cased_L-12_H-768_A-12/1', trainable=False)\n",
        "vocab_file = bert_layer.resolved_object.vocab_file.asset_path.numpy()\n",
        "do_lower_case = bert_layer.resolved_object.do_lower_case.numpy()\n",
        "tokenizer = FullTokenizer(vocab_file, do_lower_case)"
      ],
      "execution_count": 0,
      "outputs": []
    },
    {
      "cell_type": "code",
      "metadata": {
        "id": "uEhwhNWhXPEe",
        "colab_type": "code",
        "outputId": "1dca2612-e273-4a3b-949a-1f644e4a5b24",
        "colab": {
          "base_uri": "https://localhost:8080/",
          "height": 34
        }
      },
      "source": [
        "# create tokens from a sentence and convert it to ids.\n",
        "tokenizer.convert_tokens_to_ids(tokenizer.tokenize(\"my dog loves strawberries.\"))"
      ],
      "execution_count": 147,
      "outputs": [
        {
          "output_type": "execute_result",
          "data": {
            "text/plain": [
              "[1139, 3676, 7871, 15235, 22630, 119]"
            ]
          },
          "metadata": {
            "tags": []
          },
          "execution_count": 147
        }
      ]
    },
    {
      "cell_type": "code",
      "metadata": {
        "id": "8EyQyFXzeZnF",
        "colab_type": "code",
        "colab": {}
      },
      "source": [
        "def encode_sentence(sent):\n",
        "    return tokenizer.convert_tokens_to_ids(tokenizer.tokenize(sent))\n",
        "\n",
        "data_inputs = [encode_sentence(sentence) for sentence in data_clean]"
      ],
      "execution_count": 0,
      "outputs": []
    },
    {
      "cell_type": "code",
      "metadata": {
        "id": "81ptORLJfPxc",
        "colab_type": "code",
        "colab": {}
      },
      "source": [
        "# The training data is sorted according to the target variable, hence we are going to shuffle the data\n",
        "import random\n",
        "data_with_len = [[sent,data_labels[i], len(sent)]\n",
        "                 for i,sent in enumerate(data_inputs)]\n",
        "\n",
        "random.shuffle(data_with_len)\n",
        "data_with_len.sort(key=lambda x: x[2])\n",
        "sorted_all = [(sent_lab[0], sent_lab[1])\n",
        "                for sent_lab in data_with_len if sent_lab[2] > 7 ]"
      ],
      "execution_count": 0,
      "outputs": []
    },
    {
      "cell_type": "code",
      "metadata": {
        "id": "Ci5GePxWgEKs",
        "colab_type": "code",
        "colab": {}
      },
      "source": [
        "all_dataset = tf.data.Dataset.from_generator(lambda: sorted_all,\n",
        "                                             output_types=(tf.int32, tf.int32))"
      ],
      "execution_count": 0,
      "outputs": []
    },
    {
      "cell_type": "code",
      "metadata": {
        "id": "5H6Qhg19kcAA",
        "colab_type": "code",
        "outputId": "d03e5d9e-3728-43bd-8a80-79179bb68655",
        "colab": {
          "base_uri": "https://localhost:8080/",
          "height": 68
        }
      },
      "source": [
        "next(iter(all_dataset))"
      ],
      "execution_count": 151,
      "outputs": [
        {
          "output_type": "execute_result",
          "data": {
            "text/plain": [
              "(<tf.Tensor: shape=(8,), dtype=int32, numpy=\n",
              " array([  178,   112,   182,  1136,   170,   175, 23140,  1825],\n",
              "       dtype=int32)>, <tf.Tensor: shape=(), dtype=int32, numpy=0>)"
            ]
          },
          "metadata": {
            "tags": []
          },
          "execution_count": 151
        }
      ]
    },
    {
      "cell_type": "code",
      "metadata": {
        "id": "OyhZOdegkpRV",
        "colab_type": "code",
        "colab": {}
      },
      "source": [
        "BATCH_SIZE = 32\n",
        "all_batched = all_dataset.padded_batch(BATCH_SIZE, padded_shapes=((None, ), ()))"
      ],
      "execution_count": 0,
      "outputs": []
    },
    {
      "cell_type": "code",
      "metadata": {
        "id": "ZWZAZZFslzyH",
        "colab_type": "code",
        "outputId": "43caff64-b42f-4a8d-ebdb-33b9f886a2ae",
        "colab": {
          "base_uri": "https://localhost:8080/",
          "height": 629
        }
      },
      "source": [
        "next(iter(all_batched))"
      ],
      "execution_count": 153,
      "outputs": [
        {
          "output_type": "execute_result",
          "data": {
            "text/plain": [
              "(<tf.Tensor: shape=(32, 8), dtype=int32, numpy=\n",
              " array([[  178,   112,   182,  1136,   170,   175, 23140,  1825],\n",
              "        [ 2750, 16004, 12204,  1105,  1390, 10151,  4164,  2106],\n",
              "        [  178,  1567,  1139,  1207,   188,  2522,  5674,  1186],\n",
              "        [ 9691,  1906,  1111,  1240,  2298,  1120, 13752,   193],\n",
              "        [  146,  1274,   112,   189, 14425,  2750,   106,   106],\n",
              "        [ 1486,   181,  9291,  1567, 23684,  1113,  1103,  7159],\n",
              "        [ 4428, 18080,   119,   119,   119,  1133,  2041,   106],\n",
              "        [ 1178,   125,  2277,   136,   106,   152, 11215,   106],\n",
              "        [  146,  1567,  1128,  1177,  1277,  3177, 11006,  3464],\n",
              "        [ 9326,  4359,   178,  1444,  1234,  1106,  3087,   106],\n",
              "        [17869,  2490, 22797,   119,  1185,  1141,  1110,  3294],\n",
              "        [  178,  1138,  1139, 19062, 21907,  2969,  1113,   106],\n",
              "        [14820,  8685,  1632,  1329,  1104,  3987,  4351,   138],\n",
              "        [  146,   112,   182,  1136,  6100,  1294,  1122,   119],\n",
              "        [ 2119,  4477,   106,  6502, 14784, 17355,  2087,   119],\n",
              "        [ 1363,  6920,  4911,  2868,  2810,  1155,  2947,  1218],\n",
              "        [ 2825,  1329,   189, 10073,  8634,  1105,  7407,  1122],\n",
              "        [20862,  4208,  1115,  1110,  1126,  5146,  1315,   106],\n",
              "        [ 1184,   112,   188,  2171,  1106,  1240, 16225,   136],\n",
              "        [  181,  4935,  5208,  1158,  1106,  1109,  6567,  1116],\n",
              "        [ 9468, 23830,  1324, 25021,  1897,  2812,  1128,   119],\n",
              "        [10684,  1643,   190,  1198, 13224,  1525,  1122,  2121],\n",
              "        [18861,  1158,  1105, 10863,  1105,  1167, 10863,   106],\n",
              "        [23998, 16723,  1138,  4106,  1105,  1840,  1143,  1224],\n",
              "        [  146,  4869,  1139,  1289,   119,   152, 16643,  1162],\n",
              "        [ 1110,  1208,  1512,   119,  6467,   170,  9020,  5913],\n",
              "        [ 1842,  1603,  1480,  1336,  1112,  1218,  1301,  3940],\n",
              "        [ 1177,  4871,   119,   119,   119,  1781,   170, 22956],\n",
              "        [14680,  1183,   106,  8540,  1977,  1106,  1103,  2686],\n",
              "        [25132, 20787,  1139, 18556,  1116,  1606,  5127, 24282],\n",
              "        [  178,  1341,  1128,  1928,  1128,  1328,  1160,   119],\n",
              "        [ 1422,  4387,  1110,  4809,   119, 11767,  1645,   119]],\n",
              "       dtype=int32)>, <tf.Tensor: shape=(32,), dtype=int32, numpy=\n",
              " array([0, 1, 1, 0, 0, 1, 1, 1, 1, 0, 0, 1, 1, 0, 0, 1, 1, 1, 0, 1, 1, 1,\n",
              "        0, 1, 0, 1, 1, 1, 1, 1, 1, 0], dtype=int32)>)"
            ]
          },
          "metadata": {
            "tags": []
          },
          "execution_count": 153
        }
      ]
    },
    {
      "cell_type": "code",
      "metadata": {
        "id": "kuwBumKkmCzu",
        "colab_type": "code",
        "colab": {}
      },
      "source": [
        "NB_BATCHES = math.ceil(len(sorted_all) / BATCH_SIZE )\n",
        "NB_BATCHES_TEST = NB_BATCHES // 10\n",
        "all_batched.shuffle(NB_BATCHES)\n",
        "test_dataset = all_batched.take(NB_BATCHES_TEST)\n",
        "train_dataset = all_batched.skip(NB_BATCHES_TEST)\n"
      ],
      "execution_count": 0,
      "outputs": []
    },
    {
      "cell_type": "code",
      "metadata": {
        "id": "26OwCx0EpTCz",
        "colab_type": "code",
        "colab": {}
      },
      "source": [
        "class DCNN(tf.keras.Model):\n",
        "\n",
        "    def __init__(self,\n",
        "                 vocab_size,\n",
        "                emb_dim=128,\n",
        "                 nb_filters=50,# 50 feature dectectors\n",
        "                 FFN_units=512, # number of hidden units in last 2 layers\n",
        "                 nb_classes=2,\n",
        "                 dropout_rate = 0.2,\n",
        "                 name = \"dcnn\"):\n",
        "        super(DCNN, self).__init__(name=name)\n",
        "\n",
        "        self.embedding = layers.Embedding(vocab_size,\n",
        "                                            emb_dim)\n",
        "        self.bigram = layers.Conv1D(filters=nb_filters, \n",
        "                                    kernel_size=2,\n",
        "                                    padding=\"valid\",\n",
        "                                    activation=\"relu\")\n",
        "        \n",
        "        self.trigram = layers.Conv1D(filters=nb_filters, \n",
        "                                    kernel_size=3,\n",
        "                                    padding=\"valid\",\n",
        "                                    activation=\"relu\")\n",
        "        \n",
        "        self.fourgram = layers.Conv1D(filters=nb_filters, \n",
        "                                    kernel_size=4,\n",
        "                                    padding=\"valid\",\n",
        "                                    activation=\"relu\")\n",
        "        \n",
        "        self.pool = layers.GlobalMaxPooling1D()\n",
        "\n",
        "        self.dense_1 = layers.Dense(units=FFN_units, activation=\"relu\")\n",
        "\n",
        "        self.dropout = layers.Dropout(rate=dropout_rate)\n",
        "\n",
        "        if nb_classes == 2:\n",
        "            self.last_dense = layers.Dense(units=1, activation=\"sigmoid\")\n",
        "        else:\n",
        "            self.last_dense = layers.Dense(units=nb_classes, activation=\"softmax\")\n",
        "\n",
        "    def call(self, inputs, training):\n",
        "        x = self.embedding(inputs)\n",
        "        x_1 = self.bigram(x)\n",
        "        x_1 = self.pool(x_1)\n",
        "\n",
        "        x_2 = self.trigram(x)\n",
        "        x_2 = self.pool(x_2)\n",
        "\n",
        "        x_3 = self.fourgram(x)\n",
        "        x_3 = self.pool(x_3)\n",
        "\n",
        "        merged = tf.concat([x_1, x_2, x_3], axis=-1) # batch_size = 3*nb_filters\n",
        "        merged = self.dense_1(merged)\n",
        "        merged = self.dropout(merged, training)\n",
        "        output = self.last_dense(merged)\n",
        "\n",
        "        return output\n"
      ],
      "execution_count": 0,
      "outputs": []
    },
    {
      "cell_type": "code",
      "metadata": {
        "id": "eAxnpCS2LMsb",
        "colab_type": "code",
        "colab": {}
      },
      "source": [
        "VOCAB_SIZE =  len(tokenizer.vocab)\n",
        "EMB_DIM = 200\n",
        "NB_FILTERS = 100\n",
        "FFN_UNITS = 256\n",
        "NB_CLASSES = 2\n",
        "DROPOUT_RATE = 0.2\n",
        "\n",
        "NB_EPOCHS = 5"
      ],
      "execution_count": 0,
      "outputs": []
    },
    {
      "cell_type": "code",
      "metadata": {
        "id": "rnfxdT6dM6hl",
        "colab_type": "code",
        "colab": {}
      },
      "source": [
        "dcnn = DCNN(vocab_size=VOCAB_SIZE,\n",
        "            emb_dim=EMB_DIM,\n",
        "            nb_filters=NB_FILTERS,\n",
        "            FFN_units=FFN_UNITS,\n",
        "            dropout_rate=DROPOUT_RATE)"
      ],
      "execution_count": 0,
      "outputs": []
    },
    {
      "cell_type": "code",
      "metadata": {
        "id": "UgBzo1L6N9CV",
        "colab_type": "code",
        "colab": {}
      },
      "source": [
        "if NB_CLASSES == 2:\n",
        "    dcnn.compile(loss=\"binary_crossentropy\",\n",
        "                 optimizer=\"adam\",\n",
        "                 metrics=['accuracy'])\n",
        "else:\n",
        "    dcnn.compile(loss=\"sparse_categorical_crossentropy\",\n",
        "                 optimizer=\"adam\",\n",
        "                 metrics=['sparse_categorical_accuracy'])"
      ],
      "execution_count": 0,
      "outputs": []
    },
    {
      "cell_type": "code",
      "metadata": {
        "id": "azLO8bSfOxEz",
        "colab_type": "code",
        "colab": {
          "base_uri": "https://localhost:8080/",
          "height": 34
        },
        "outputId": "0a41c2a7-8ee2-4e99-8d1d-f68bc9db4d71"
      },
      "source": [
        "checkpoint_path = \"/content/drive/My Drive/Colab Notebooks/ckpt_bert\"\n",
        "\n",
        "ckpt = tf.train.Checkpoint(Dcnn=dcnn)\n",
        "ckpt_manager = tf.train.CheckpointManager(ckpt, checkpoint_path, max_to_keep=1)\n",
        "\n",
        "if ckpt_manager.latest_checkpoint:\n",
        "    ckpt.restore(ckpt_manager.latest_checkpoint)\n",
        "    print (\"Latest checkpoint is restored\")"
      ],
      "execution_count": 159,
      "outputs": [
        {
          "output_type": "stream",
          "text": [
            "Latest checkpoint is restored\n"
          ],
          "name": "stdout"
        }
      ]
    },
    {
      "cell_type": "code",
      "metadata": {
        "id": "pjs5Y1rfQhef",
        "colab_type": "code",
        "colab": {}
      },
      "source": [
        "class MyCustomCallBack(tf.keras.callbacks.Callback):\n",
        "\n",
        "    def on_epoch_end(self, epoch, logs=None):\n",
        "        ckpt_manager.save()\n",
        "        print (\"Checkpoint is saved at {} \". format(checkpoint_path))\n"
      ],
      "execution_count": 0,
      "outputs": []
    },
    {
      "cell_type": "code",
      "metadata": {
        "id": "mBO1752tRpN7",
        "colab_type": "code",
        "colab": {
          "base_uri": "https://localhost:8080/",
          "height": 122
        },
        "outputId": "2dffbe4e-5128-42da-d85e-2e37448ea622"
      },
      "source": [
        "dcnn.fit(train_dataset,\n",
        "         epochs=NB_EPOCHS,\n",
        "         callbacks=[MyCustomCallBack()])"
      ],
      "execution_count": 0,
      "outputs": [
        {
          "output_type": "stream",
          "text": [
            "Epoch 1/5\n",
            "  38137/Unknown - 2343s 61ms/step - loss: 0.4246 - accuracy: 0.8056Checkpoint is saved at /content/drive/My Drive/Colab Notebooks/ckpt_bert \n",
            "38137/38137 [==============================] - 2343s 61ms/step - loss: 0.4246 - accuracy: 0.8056\n",
            "Epoch 2/5\n",
            "22274/38137 [================>.............] - ETA: 16:17 - loss: 0.3565 - accuracy: 0.8444Buffered data was truncated after reaching the output size limit."
          ],
          "name": "stdout"
        }
      ]
    },
    {
      "cell_type": "code",
      "metadata": {
        "id": "p_8z1LDHSDNG",
        "colab_type": "code",
        "colab": {}
      },
      "source": [
        "results = dcnn.evaluate(test_dataset)\n",
        "print (results)"
      ],
      "execution_count": 0,
      "outputs": []
    },
    {
      "cell_type": "code",
      "metadata": {
        "id": "aUjIRcEbWGL2",
        "colab_type": "code",
        "colab": {}
      },
      "source": [
        "def get_prediction(sentence):\n",
        "    tokens = encode_sentence(sentence)\n",
        "    inputs = tf.expand_dims(tokens, 0)\n",
        "\n",
        "    output = dcnn(inputs, training=False)\n",
        "    \n",
        "    sentiment = math.floor(output*2)\n",
        "\n",
        "    if(sentiment == 0):\n",
        "        print (\"Output from the model {}.\\n Predicted sentiment = negative\". format(output))\n",
        "    elsif(sentiment == 1):\n",
        "        print (\"Output from the model {}.\\n Predicted sentiment = postive\". format(output))"
      ],
      "execution_count": 0,
      "outputs": []
    },
    {
      "cell_type": "code",
      "metadata": {
        "id": "nMTbE_hObC-k",
        "colab_type": "code",
        "colab": {}
      },
      "source": [
        "get_prediction(\"the movie was very horrible..\")"
      ],
      "execution_count": 0,
      "outputs": []
    },
    {
      "cell_type": "code",
      "metadata": {
        "id": "u_QsofpTbINv",
        "colab_type": "code",
        "colab": {}
      },
      "source": [
        ""
      ],
      "execution_count": 0,
      "outputs": []
    }
  ]
}