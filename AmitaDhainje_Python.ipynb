{
 "cells": [
  {
   "cell_type": "markdown",
   "metadata": {},
   "source": [
    "# Read the input data"
   ]
  },
  {
   "cell_type": "code",
   "execution_count": 24,
   "metadata": {},
   "outputs": [],
   "source": [
    "import sys\n",
    "import numpy as np\n",
    "import pandas as pd\n",
    "\n",
    "processData = pd.read_csv('Input_StartOfDay_Positions.txt')\n",
    "transactionData = pd.read_json('1537277231233_Input_Transactions.txt')"
   ]
  },
  {
   "cell_type": "markdown",
   "metadata": {},
   "source": [
    "#  Processing the data for the required output"
   ]
  },
  {
   "cell_type": "code",
   "execution_count": null,
   "metadata": {},
   "outputs": [],
   "source": [
    "processData['OriginalQuantity'] = processData['Quantity']"
   ]
  },
  {
   "cell_type": "code",
   "execution_count": 26,
   "metadata": {},
   "outputs": [],
   "source": [
    "for idex,row in transactionData.iterrows():\n",
    "    symbol = row['Instrument']\n",
    "    reqProcessData = processData[ processData['Instrument'] == symbol].index.values\n",
    "    for x in reqProcessData:\n",
    "        if(row['TransactionType'] == 'B' and processData['AccountType'][x] == 'E'):\n",
    "            processData.at[x,'Quantity'] = processData['Quantity'][x] + row['TransactionQuantity']\n",
    "       \n",
    "        if(row['TransactionType'] == 'B' and processData['AccountType'][x] == 'I'):\n",
    "            processData.at[x,'Quantity'] = processData['Quantity'][x] - row['TransactionQuantity']\n",
    "       \n",
    "        if(row['TransactionType'] == 'S' and processData['AccountType'][x] == 'E'):\n",
    "            processData.at[x,'Quantity'] = processData['Quantity'][x] - row['TransactionQuantity']\n",
    "            \n",
    "        if(row['TransactionType'] == 'S' and processData['AccountType'][x] == 'I'):\n",
    "            processData.at[x,'Quantity'] = processData['Quantity'][x] + row['TransactionQuantity']\n",
    "            \n",
    "     "
   ]
  },
  {
   "cell_type": "markdown",
   "metadata": {},
   "source": [
    "# Displaying the final required output"
   ]
  },
  {
   "cell_type": "code",
   "execution_count": 28,
   "metadata": {},
   "outputs": [
    {
     "data": {
      "text/html": [
       "<div>\n",
       "<style scoped>\n",
       "    .dataframe tbody tr th:only-of-type {\n",
       "        vertical-align: middle;\n",
       "    }\n",
       "\n",
       "    .dataframe tbody tr th {\n",
       "        vertical-align: top;\n",
       "    }\n",
       "\n",
       "    .dataframe thead th {\n",
       "        text-align: right;\n",
       "    }\n",
       "</style>\n",
       "<table border=\"1\" class=\"dataframe\">\n",
       "  <thead>\n",
       "    <tr style=\"text-align: right;\">\n",
       "      <th></th>\n",
       "      <th>Instrument</th>\n",
       "      <th>Account</th>\n",
       "      <th>AccountType</th>\n",
       "      <th>Quantity</th>\n",
       "      <th>Delta</th>\n",
       "    </tr>\n",
       "  </thead>\n",
       "  <tbody>\n",
       "    <tr>\n",
       "      <th>0</th>\n",
       "      <td>IBM</td>\n",
       "      <td>101</td>\n",
       "      <td>E</td>\n",
       "      <td>101000</td>\n",
       "      <td>1000</td>\n",
       "    </tr>\n",
       "    <tr>\n",
       "      <th>1</th>\n",
       "      <td>IBM</td>\n",
       "      <td>201</td>\n",
       "      <td>I</td>\n",
       "      <td>-101000</td>\n",
       "      <td>-1000</td>\n",
       "    </tr>\n",
       "    <tr>\n",
       "      <th>2</th>\n",
       "      <td>MSFT</td>\n",
       "      <td>101</td>\n",
       "      <td>E</td>\n",
       "      <td>4999750</td>\n",
       "      <td>-250</td>\n",
       "    </tr>\n",
       "    <tr>\n",
       "      <th>3</th>\n",
       "      <td>MSFT</td>\n",
       "      <td>201</td>\n",
       "      <td>I</td>\n",
       "      <td>-4999750</td>\n",
       "      <td>250</td>\n",
       "    </tr>\n",
       "    <tr>\n",
       "      <th>4</th>\n",
       "      <td>APPL</td>\n",
       "      <td>101</td>\n",
       "      <td>E</td>\n",
       "      <td>-1100</td>\n",
       "      <td>-11100</td>\n",
       "    </tr>\n",
       "    <tr>\n",
       "      <th>5</th>\n",
       "      <td>APPL</td>\n",
       "      <td>201</td>\n",
       "      <td>I</td>\n",
       "      <td>1100</td>\n",
       "      <td>11100</td>\n",
       "    </tr>\n",
       "    <tr>\n",
       "      <th>6</th>\n",
       "      <td>AMZN</td>\n",
       "      <td>101</td>\n",
       "      <td>E</td>\n",
       "      <td>-24850</td>\n",
       "      <td>-14850</td>\n",
       "    </tr>\n",
       "    <tr>\n",
       "      <th>7</th>\n",
       "      <td>AMZN</td>\n",
       "      <td>201</td>\n",
       "      <td>I</td>\n",
       "      <td>24850</td>\n",
       "      <td>14850</td>\n",
       "    </tr>\n",
       "    <tr>\n",
       "      <th>8</th>\n",
       "      <td>NFLX</td>\n",
       "      <td>101</td>\n",
       "      <td>E</td>\n",
       "      <td>100000000</td>\n",
       "      <td>0</td>\n",
       "    </tr>\n",
       "    <tr>\n",
       "      <th>9</th>\n",
       "      <td>NFLX</td>\n",
       "      <td>201</td>\n",
       "      <td>I</td>\n",
       "      <td>-100000000</td>\n",
       "      <td>0</td>\n",
       "    </tr>\n",
       "  </tbody>\n",
       "</table>\n",
       "</div>"
      ],
      "text/plain": [
       "  Instrument  Account AccountType   Quantity  Delta\n",
       "0        IBM      101           E     101000   1000\n",
       "1        IBM      201           I    -101000  -1000\n",
       "2       MSFT      101           E    4999750   -250\n",
       "3       MSFT      201           I   -4999750    250\n",
       "4       APPL      101           E      -1100 -11100\n",
       "5       APPL      201           I       1100  11100\n",
       "6       AMZN      101           E     -24850 -14850\n",
       "7       AMZN      201           I      24850  14850\n",
       "8       NFLX      101           E  100000000      0\n",
       "9       NFLX      201           I -100000000      0"
      ]
     },
     "execution_count": 28,
     "metadata": {},
     "output_type": "execute_result"
    }
   ],
   "source": [
    "processData['Delta'] = processData['Quantity'] - processData['OriginalQuantity']\n",
    "finalResult = processData[['Instrument','Account','AccountType','Quantity','Delta']]\n",
    "finalResult"
   ]
  },
  {
   "cell_type": "code",
   "execution_count": null,
   "metadata": {},
   "outputs": [],
   "source": []
  }
 ],
 "metadata": {
  "kernelspec": {
   "display_name": "Python 3",
   "language": "python",
   "name": "python3"
  },
  "language_info": {
   "codemirror_mode": {
    "name": "ipython",
    "version": 3
   },
   "file_extension": ".py",
   "mimetype": "text/x-python",
   "name": "python",
   "nbconvert_exporter": "python",
   "pygments_lexer": "ipython3",
   "version": "3.6.5"
  }
 },
 "nbformat": 4,
 "nbformat_minor": 2
}
