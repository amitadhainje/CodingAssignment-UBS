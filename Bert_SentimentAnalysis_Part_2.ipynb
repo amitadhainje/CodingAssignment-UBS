{
  "nbformat": 4,
  "nbformat_minor": 0,
  "metadata": {
    "colab": {
      "name": "Bert_SentimentAnalysis_Part_2.ipynb",
      "provenance": [],
      "collapsed_sections": [],
      "authorship_tag": "ABX9TyNDUzq9GQMeHej56q1DhaJQ",
      "include_colab_link": true
    },
    "kernelspec": {
      "name": "python3",
      "display_name": "Python 3"
    }
  },
  "cells": [
    {
      "cell_type": "markdown",
      "metadata": {
        "id": "view-in-github",
        "colab_type": "text"
      },
      "source": [
        "<a href=\"https://colab.research.google.com/github/amitadhainje/CodingAssignment-UBS/blob/master/Bert_SentimentAnalysis_Part_2.ipynb\" target=\"_parent\"><img src=\"https://colab.research.google.com/assets/colab-badge.svg\" alt=\"Open In Colab\"/></a>"
      ]
    },
    {
      "cell_type": "code",
      "metadata": {
        "id": "o9-hftr0gX_w",
        "colab_type": "code",
        "outputId": "9ebbadbc-f862-43d0-b05b-ae695a2de853",
        "colab": {
          "base_uri": "https://localhost:8080/",
          "height": 156
        }
      },
      "source": [
        "#Installing the required modules\n",
        "!pip install bert-for-tf2\n",
        "!pip install sentencepiece\n",
        "print (\"The modules like bert-for-tf2 and sentencepiece is installed\")"
      ],
      "execution_count": 20,
      "outputs": [
        {
          "output_type": "stream",
          "text": [
            "Requirement already satisfied: bert-for-tf2 in /usr/local/lib/python3.6/dist-packages (0.13.5)\n",
            "Requirement already satisfied: params-flow>=0.7.1 in /usr/local/lib/python3.6/dist-packages (from bert-for-tf2) (0.7.4)\n",
            "Requirement already satisfied: py-params>=0.7.3 in /usr/local/lib/python3.6/dist-packages (from bert-for-tf2) (0.8.3)\n",
            "Requirement already satisfied: numpy in /usr/local/lib/python3.6/dist-packages (from params-flow>=0.7.1->bert-for-tf2) (1.18.2)\n",
            "Requirement already satisfied: tqdm in /usr/local/lib/python3.6/dist-packages (from params-flow>=0.7.1->bert-for-tf2) (4.38.0)\n",
            "Requirement already satisfied: sentencepiece in /usr/local/lib/python3.6/dist-packages (0.1.85)\n",
            "The modules like bert-for-tf2 and sentencepiece is installed\n"
          ],
          "name": "stdout"
        }
      ]
    },
    {
      "cell_type": "code",
      "metadata": {
        "id": "N9-_EHz-ghES",
        "colab_type": "code",
        "colab": {}
      },
      "source": [
        "import numpy as np\n",
        "import math\n",
        "import re\n",
        "import pandas as pd\n",
        "from bs4 import BeautifulSoup"
      ],
      "execution_count": 0,
      "outputs": []
    },
    {
      "cell_type": "code",
      "metadata": {
        "id": "5-V2ida8gl3w",
        "colab_type": "code",
        "colab": {}
      },
      "source": [
        "try:\n",
        "    %tensorflow_version 2.x\n",
        "except Exception:\n",
        "    pass\n",
        "\n",
        "import tensorflow as tf\n",
        "import tensorflow_hub as hub\n",
        "from tensorflow.keras import layers\n",
        "import bert"
      ],
      "execution_count": 0,
      "outputs": []
    },
    {
      "cell_type": "code",
      "metadata": {
        "id": "sCmB0XP_gnxu",
        "colab_type": "code",
        "outputId": "b8a43f1c-edb3-41ff-a3c5-df00ae44ec1d",
        "colab": {
          "base_uri": "https://localhost:8080/",
          "height": 85
        }
      },
      "source": [
        "print (\"The tensorflow version - \",tf.__version__)\n",
        "print (\"The tensorflow_hub  version - \",hub.__version__)\n",
        "print (\"The pandas version - \",pd.__version__)\n",
        "print (\"The numpy version - \",np.__version__)\n"
      ],
      "execution_count": 23,
      "outputs": [
        {
          "output_type": "stream",
          "text": [
            "The tensorflow version -  2.1.0\n",
            "The tensorflow_hub  version -  0.7.0\n",
            "The pandas version -  0.25.3\n",
            "The numpy version -  1.18.2\n"
          ],
          "name": "stdout"
        }
      ]
    },
    {
      "cell_type": "code",
      "metadata": {
        "id": "rp7GFcfmgsOn",
        "colab_type": "code",
        "outputId": "f3a061ea-5f20-4c0b-b700-2ab39b8f4302",
        "colab": {
          "base_uri": "https://localhost:8080/",
          "height": 54
        }
      },
      "source": [
        "from google.colab import drive\n",
        "drive.mount('/content/drive')"
      ],
      "execution_count": 24,
      "outputs": [
        {
          "output_type": "stream",
          "text": [
            "Drive already mounted at /content/drive; to attempt to forcibly remount, call drive.mount(\"/content/drive\", force_remount=True).\n"
          ],
          "name": "stdout"
        }
      ]
    },
    {
      "cell_type": "code",
      "metadata": {
        "id": "BQpFZuJtgup1",
        "colab_type": "code",
        "outputId": "159acda4-5b92-4cc3-e1d5-009795cb2363",
        "colab": {
          "base_uri": "https://localhost:8080/",
          "height": 289
        }
      },
      "source": [
        "columns = ['sentiment', 'id', 'date', 'query','user', 'text']\n",
        "trainData = pd.read_csv(\"/content/drive/My Drive/Colab Notebooks/train.csv\", header=None, names=columns,\n",
        "                   engine=\"python\", encoding='latin1')\n",
        "\n",
        "#positiveData = dataset[dataset['sentiment'] == 4][0:50000]\n",
        "#negativeData = dataset[dataset['sentiment'] == 0][0:50000]\n",
        "#frames = [positiveData, negativeData]\n",
        "#trainData = pd.concat(frames)\n",
        "trainData.head()"
      ],
      "execution_count": 25,
      "outputs": [
        {
          "output_type": "execute_result",
          "data": {
            "text/html": [
              "<div>\n",
              "<style scoped>\n",
              "    .dataframe tbody tr th:only-of-type {\n",
              "        vertical-align: middle;\n",
              "    }\n",
              "\n",
              "    .dataframe tbody tr th {\n",
              "        vertical-align: top;\n",
              "    }\n",
              "\n",
              "    .dataframe thead th {\n",
              "        text-align: right;\n",
              "    }\n",
              "</style>\n",
              "<table border=\"1\" class=\"dataframe\">\n",
              "  <thead>\n",
              "    <tr style=\"text-align: right;\">\n",
              "      <th></th>\n",
              "      <th>sentiment</th>\n",
              "      <th>id</th>\n",
              "      <th>date</th>\n",
              "      <th>query</th>\n",
              "      <th>user</th>\n",
              "      <th>text</th>\n",
              "    </tr>\n",
              "  </thead>\n",
              "  <tbody>\n",
              "    <tr>\n",
              "      <th>0</th>\n",
              "      <td>0</td>\n",
              "      <td>1467810369</td>\n",
              "      <td>Mon Apr 06 22:19:45 PDT 2009</td>\n",
              "      <td>NO_QUERY</td>\n",
              "      <td>_TheSpecialOne_</td>\n",
              "      <td>@switchfoot http://twitpic.com/2y1zl - Awww, t...</td>\n",
              "    </tr>\n",
              "    <tr>\n",
              "      <th>1</th>\n",
              "      <td>0</td>\n",
              "      <td>1467810672</td>\n",
              "      <td>Mon Apr 06 22:19:49 PDT 2009</td>\n",
              "      <td>NO_QUERY</td>\n",
              "      <td>scotthamilton</td>\n",
              "      <td>is upset that he can't update his Facebook by ...</td>\n",
              "    </tr>\n",
              "    <tr>\n",
              "      <th>2</th>\n",
              "      <td>0</td>\n",
              "      <td>1467810917</td>\n",
              "      <td>Mon Apr 06 22:19:53 PDT 2009</td>\n",
              "      <td>NO_QUERY</td>\n",
              "      <td>mattycus</td>\n",
              "      <td>@Kenichan I dived many times for the ball. Man...</td>\n",
              "    </tr>\n",
              "    <tr>\n",
              "      <th>3</th>\n",
              "      <td>0</td>\n",
              "      <td>1467811184</td>\n",
              "      <td>Mon Apr 06 22:19:57 PDT 2009</td>\n",
              "      <td>NO_QUERY</td>\n",
              "      <td>ElleCTF</td>\n",
              "      <td>my whole body feels itchy and like its on fire</td>\n",
              "    </tr>\n",
              "    <tr>\n",
              "      <th>4</th>\n",
              "      <td>0</td>\n",
              "      <td>1467811193</td>\n",
              "      <td>Mon Apr 06 22:19:57 PDT 2009</td>\n",
              "      <td>NO_QUERY</td>\n",
              "      <td>Karoli</td>\n",
              "      <td>@nationwideclass no, it's not behaving at all....</td>\n",
              "    </tr>\n",
              "  </tbody>\n",
              "</table>\n",
              "</div>"
            ],
            "text/plain": [
              "   sentiment  ...                                               text\n",
              "0          0  ...  @switchfoot http://twitpic.com/2y1zl - Awww, t...\n",
              "1          0  ...  is upset that he can't update his Facebook by ...\n",
              "2          0  ...  @Kenichan I dived many times for the ball. Man...\n",
              "3          0  ...    my whole body feels itchy and like its on fire \n",
              "4          0  ...  @nationwideclass no, it's not behaving at all....\n",
              "\n",
              "[5 rows x 6 columns]"
            ]
          },
          "metadata": {
            "tags": []
          },
          "execution_count": 25
        }
      ]
    },
    {
      "cell_type": "code",
      "metadata": {
        "id": "nOG-MzyYg73C",
        "colab_type": "code",
        "outputId": "54fae4d3-eb1e-45c2-c81f-65e31f7ac1a4",
        "colab": {
          "base_uri": "https://localhost:8080/",
          "height": 204
        }
      },
      "source": [
        "trainData.drop(['id','date','query','user'], axis=1, inplace=True)\n",
        "trainData.head()"
      ],
      "execution_count": 26,
      "outputs": [
        {
          "output_type": "execute_result",
          "data": {
            "text/html": [
              "<div>\n",
              "<style scoped>\n",
              "    .dataframe tbody tr th:only-of-type {\n",
              "        vertical-align: middle;\n",
              "    }\n",
              "\n",
              "    .dataframe tbody tr th {\n",
              "        vertical-align: top;\n",
              "    }\n",
              "\n",
              "    .dataframe thead th {\n",
              "        text-align: right;\n",
              "    }\n",
              "</style>\n",
              "<table border=\"1\" class=\"dataframe\">\n",
              "  <thead>\n",
              "    <tr style=\"text-align: right;\">\n",
              "      <th></th>\n",
              "      <th>sentiment</th>\n",
              "      <th>text</th>\n",
              "    </tr>\n",
              "  </thead>\n",
              "  <tbody>\n",
              "    <tr>\n",
              "      <th>0</th>\n",
              "      <td>0</td>\n",
              "      <td>@switchfoot http://twitpic.com/2y1zl - Awww, t...</td>\n",
              "    </tr>\n",
              "    <tr>\n",
              "      <th>1</th>\n",
              "      <td>0</td>\n",
              "      <td>is upset that he can't update his Facebook by ...</td>\n",
              "    </tr>\n",
              "    <tr>\n",
              "      <th>2</th>\n",
              "      <td>0</td>\n",
              "      <td>@Kenichan I dived many times for the ball. Man...</td>\n",
              "    </tr>\n",
              "    <tr>\n",
              "      <th>3</th>\n",
              "      <td>0</td>\n",
              "      <td>my whole body feels itchy and like its on fire</td>\n",
              "    </tr>\n",
              "    <tr>\n",
              "      <th>4</th>\n",
              "      <td>0</td>\n",
              "      <td>@nationwideclass no, it's not behaving at all....</td>\n",
              "    </tr>\n",
              "  </tbody>\n",
              "</table>\n",
              "</div>"
            ],
            "text/plain": [
              "   sentiment                                               text\n",
              "0          0  @switchfoot http://twitpic.com/2y1zl - Awww, t...\n",
              "1          0  is upset that he can't update his Facebook by ...\n",
              "2          0  @Kenichan I dived many times for the ball. Man...\n",
              "3          0    my whole body feels itchy and like its on fire \n",
              "4          0  @nationwideclass no, it's not behaving at all...."
            ]
          },
          "metadata": {
            "tags": []
          },
          "execution_count": 26
        }
      ]
    },
    {
      "cell_type": "code",
      "metadata": {
        "id": "2TA63TWxg_hb",
        "colab_type": "code",
        "outputId": "be868956-2486-4715-b66f-1b65727d90ef",
        "colab": {
          "base_uri": "https://localhost:8080/",
          "height": 34
        }
      },
      "source": [
        "def clean_tweet(tweet):\n",
        "    tweet = BeautifulSoup(tweet, 'lxml').get_text()\n",
        "    tweet = re.sub(r\"@[A-Z-a-z-0-9]+\", ' ', tweet)\n",
        "    tweet = re.sub(r\"https?://[A-Z-a-z-0-9./]+\", ' ', tweet)\n",
        "    tweet = re.sub(r\"[^a-zA-Z0-9.!?']\", ' ', tweet)\n",
        "    tweet = re.sub(r\" +\", ' ', tweet)\n",
        "    return tweet\n",
        "\n",
        "data_clean = [clean_tweet(tweet) for tweet in trainData.text]\n",
        "data_clean[0]"
      ],
      "execution_count": 27,
      "outputs": [
        {
          "output_type": "execute_result",
          "data": {
            "text/plain": [
              "\" Awww that's a bummer. You shoulda got David Carr of Third Day to do it. D\""
            ]
          },
          "metadata": {
            "tags": []
          },
          "execution_count": 27
        }
      ]
    },
    {
      "cell_type": "code",
      "metadata": {
        "id": "NHLBv9GxhFRh",
        "colab_type": "code",
        "colab": {}
      },
      "source": [
        "data_labels = trainData.sentiment.values\n",
        "data_labels[data_labels == 4] = 1"
      ],
      "execution_count": 0,
      "outputs": []
    },
    {
      "cell_type": "code",
      "metadata": {
        "id": "D9dreRmghNiN",
        "colab_type": "code",
        "colab": {}
      },
      "source": [
        "FullTokenizer = bert.bert_tokenization.FullTokenizer\n",
        "bert_layer = hub.KerasLayer('https://tfhub.dev/tensorflow/bert_en_cased_L-12_H-768_A-12/1', trainable=False)\n",
        "vocab_file = bert_layer.resolved_object.vocab_file.asset_path.numpy()\n",
        "do_lower_case = bert_layer.resolved_object.do_lower_case.numpy()\n",
        "tokenizer = FullTokenizer(vocab_file, do_lower_case)"
      ],
      "execution_count": 0,
      "outputs": []
    },
    {
      "cell_type": "code",
      "metadata": {
        "id": "0hANOkeLhRZI",
        "colab_type": "code",
        "colab": {}
      },
      "source": [
        "def encode_sentence(sent):\n",
        "    return ['[CLS]'] + tokenizer.tokenize(sent) + ['[SEP]']\n",
        "\n",
        "data_inputs = [encode_sentence(sentence) for sentence in data_clean]"
      ],
      "execution_count": 0,
      "outputs": []
    },
    {
      "cell_type": "markdown",
      "metadata": {
        "id": "_FGXfnNIiDVK",
        "colab_type": "text"
      },
      "source": [
        "1. Add \"CLS\" and \"SEP\" tokens to the starting and end of the sequence. Here we are assuming that there is only one sequence.\n",
        "\n",
        "2. A \"BERT_LAYER\" takes 3 different inputs.\n",
        "\n",
        "3. First is the tokenized version of the input sentences i.e. the one we have created in using the above \"encode_sentence\" function. Second is the list of the masks or \"input_masks\" which helps bert to differentiate between the actual values and the padding values. It tells the bert where are the padding values for a given sentence. The padded tokens should not be used while processing. Third one is the segment ids , which will be used if there are multiple sentences in a particular records. Segment ids are combination of '0's and '1's and they tell the bert which is the first sentence and which one is the second sentence in one particular record.\n",
        "\n",
        "4. While initializing the \"bert_layer\" , we mention \"trainable=False\" , we want to use BERT as it is and we do not want to fine-tune it."
      ]
    },
    {
      "cell_type": "code",
      "metadata": {
        "id": "n51t9kMchslO",
        "colab_type": "code",
        "colab": {}
      },
      "source": [
        "def get_ids(tokens):\n",
        "    return tokenizer.convert_tokens_to_ids(tokens)\n",
        "\n",
        "def get_mask(tokens):\n",
        "    return np.char.not_equal(tokens, \"[PAD]\").astype(int)\n",
        "\n",
        "def get_segments(tokens):\n",
        "    seg_ids = []\n",
        "    current_seg_id = 0\n",
        "    for tok in tokens:\n",
        "        seg_ids.append(current_seg_id)\n",
        "        if tok == \"[SEP]\":\n",
        "            current_seg_id = 1-current_seg_id\n",
        "    return seg_ids\n",
        "\n",
        "\n",
        "\n"
      ],
      "execution_count": 0,
      "outputs": []
    },
    {
      "cell_type": "code",
      "metadata": {
        "id": "IMx0mjoClYA-",
        "colab_type": "code",
        "colab": {}
      },
      "source": [
        "# The training data is sorted according to the target variable, hence we are going to shuffle the data\n",
        "import random\n",
        "data_with_len = [[sent,data_labels[i], len(sent)]\n",
        "                 for i,sent in enumerate(data_inputs)]\n",
        "\n",
        "random.shuffle(data_with_len)\n",
        "data_with_len.sort(key=lambda x: x[2])\n",
        "sorted_all = [([get_ids(sent_lab[0]), \n",
        "               get_mask(sent_lab[0]),\n",
        "                get_segments(sent_lab[0]) \n",
        "               ], sent_lab[1])   \n",
        "                for sent_lab in data_with_len if sent_lab[2] > 7 ]"
      ],
      "execution_count": 0,
      "outputs": []
    },
    {
      "cell_type": "code",
      "metadata": {
        "id": "Ds7BnktGEjfy",
        "colab_type": "code",
        "colab": {}
      },
      "source": [
        "all_dataset = tf.data.Dataset.from_generator(lambda: sorted_all,\n",
        "                                             output_types=(tf.int32, tf.int32))\n",
        "BATCH_SIZE = 32\n",
        "all_batched = all_dataset.padded_batch(BATCH_SIZE,\n",
        "                                       padded_shapes=((3, None), ()),\n",
        "                                       padding_values=(0, 0))\n",
        "\n",
        "NB_BATCHES = math.ceil(len(sorted_all) / BATCH_SIZE )\n",
        "NB_BATCHES_TEST = NB_BATCHES // 10\n",
        "all_batched.shuffle(NB_BATCHES)\n",
        "test_dataset = all_batched.take(NB_BATCHES_TEST)\n",
        "train_dataset = all_batched.skip(NB_BATCHES_TEST)"
      ],
      "execution_count": 0,
      "outputs": []
    },
    {
      "cell_type": "code",
      "metadata": {
        "id": "yv3rsFpkl4mt",
        "colab_type": "code",
        "colab": {
          "base_uri": "https://localhost:8080/",
          "height": 1000
        },
        "outputId": "7db2a511-82d6-4a56-a216-923519e34585"
      },
      "source": [
        "sampleSent = [\"[CLS]\"] + tokenizer.tokenize(\"Roses are red\") + [\"[SEP]\"]\n",
        "print (sampleSent)\n",
        "bert_layer([tf.expand_dims(tf.cast(get_ids(sampleSent), tf.int32), 0),\n",
        "            tf.expand_dims(tf.cast(get_mask(sampleSent), tf.int32), 0),\n",
        "            tf.expand_dims(tf.cast(get_segments(sampleSent), tf.int32), 0)])"
      ],
      "execution_count": 43,
      "outputs": [
        {
          "output_type": "stream",
          "text": [
            "['[CLS]', 'Roses', 'are', 'red', '[SEP]']\n"
          ],
          "name": "stdout"
        },
        {
          "output_type": "execute_result",
          "data": {
            "text/plain": [
              "[<tf.Tensor: shape=(1, 768), dtype=float32, numpy=\n",
              " array([[-0.7411164 ,  0.4618967 ,  0.99993765, -0.99560326,  0.96021503,\n",
              "          0.68910116,  0.9868691 , -0.9526616 , -0.9781783 , -0.68281555,\n",
              "          0.99076134,  0.99894404, -0.993728  , -0.99988776,  0.65058947,\n",
              "         -0.982285  ,  0.9928449 , -0.58514524, -0.99998057, -0.78017884,\n",
              "         -0.20368141, -0.99992603,  0.31423122,  0.93991727,  0.984753  ,\n",
              "          0.11941554,  0.993232  ,  0.99997103,  0.88947356,  0.22935857,\n",
              "          0.36462295, -0.99528813,  0.83558977, -0.99943525,  0.17936641,\n",
              "          0.02297609,  0.3446346 , -0.29723346,  0.77074224, -0.84347856,\n",
              "         -0.7860427 , -0.46762857,  0.53143156, -0.52513546,  0.7981314 ,\n",
              "          0.37057903,  0.2312386 , -0.03575641, -0.24646711,  0.99996597,\n",
              "         -0.9804097 ,  0.9999313 , -0.9756166 ,  0.9991564 ,  0.9958855 ,\n",
              "          0.60811   ,  0.9970868 ,  0.24700336, -0.99403846,  0.5302822 ,\n",
              "          0.9865914 ,  0.03325732,  0.9593753 , -0.14395088,  0.29443383,\n",
              "         -0.69813925, -0.5665684 ,  0.22754687, -0.46808442,  0.58951586,\n",
              "          0.503089  ,  0.2537173 ,  0.98499966, -0.9531603 , -0.04821721,\n",
              "         -0.9630344 ,  0.40434408, -0.99995893,  0.9759236 ,  0.99997187,\n",
              "          0.12413579, -0.9997928 ,  0.99358803, -0.34070712, -0.13429616,\n",
              "         -0.04486262, -0.99651563, -0.9996348 ,  0.10225622, -0.7844814 ,\n",
              "          0.7446507 , -0.9909861 ,  0.58279175, -0.58582616,  0.9999786 ,\n",
              "         -0.7196531 , -0.22489808,  0.42959288,  0.87642443, -0.49853918,\n",
              "         -0.77184755,  0.8871193 ,  0.9959822 , -0.9812992 ,  0.9953482 ,\n",
              "          0.200861  , -0.9567264 , -0.69492006,  0.32638752,  0.06676737,\n",
              "          0.9924071 , -0.9948833 , -0.84175986,  0.06537855,  0.8776767 ,\n",
              "         -0.90121657,  0.98900646,  0.89282614, -0.36613432,  0.9999844 ,\n",
              "         -0.21553147,  0.9455569 ,  0.9988896 ,  0.67347634, -0.33140233,\n",
              "         -0.34661174, -0.61625654,  0.8671535 , -0.2530294 , -0.5418874 ,\n",
              "          0.7450791 , -0.9945884 , -0.9939549 ,  0.99966276, -0.33422592,\n",
              "          0.99998003, -0.9995133 ,  0.9808789 , -0.9999706 , -0.787093  ,\n",
              "         -0.6065836 , -0.1330898 , -0.9713012 ,  0.5188951 ,  0.99333155,\n",
              "          0.10905419, -0.75782883, -0.3835401 ,  0.47071126, -0.5727836 ,\n",
              "          0.65020066,  0.8572816 , -0.9787118 ,  0.99971646,  0.9940007 ,\n",
              "          0.91476136,  0.96161026,  0.23321041, -0.92588615,  0.758903  ,\n",
              "          0.9938794 , -0.9995285 ,  0.5824998 , -0.98655665,  0.99965185,\n",
              "          0.9805951 ,  0.6219438 , -0.9810646 ,  0.999937  , -0.10570814,\n",
              "          0.08972003, -0.26827574, -0.13040169, -0.9962377 ,  0.45284453,\n",
              "          0.45974025,  0.8993268 ,  0.99976104, -0.9926928 ,  0.9998766 ,\n",
              "          0.995228  ,  0.00895926,  0.8314368 ,  0.9956842 , -0.99730325,\n",
              "         -0.9825414 , -0.9887205 ,  0.3278366 , -0.02943064,  0.7102272 ,\n",
              "          0.38195753,  0.9713491 ,  0.9966415 ,  0.80593544, -0.99906653,\n",
              "         -0.4476292 ,  0.98677695, -0.10398699,  0.99997413,  0.02041931,\n",
              "         -0.9998466 , -0.87459457,  0.8602604 ,  0.9562436 , -0.3682126 ,\n",
              "          0.979228  , -0.38062832, -0.12480823,  0.97292405, -0.9998219 ,\n",
              "          0.9915437 ,  0.11946906,  0.4269973 ,  0.8872024 ,  0.9953957 ,\n",
              "         -0.71510863, -0.19590524,  0.28443694, -0.52586544,  0.9999269 ,\n",
              "         -0.9996949 , -0.22134723,  0.6803598 , -0.9973304 , -0.9982738 ,\n",
              "          0.9874185 , -0.00480742, -0.34133595, -0.30827007, -0.46284693,\n",
              "          0.27460843,  0.75634813,  0.9931305 , -0.38616982,  0.17632225,\n",
              "         -0.99991554, -0.98913246, -0.93665636, -0.88309866,  0.19857486,\n",
              "          0.65054923, -0.46833375, -0.95605713, -0.99397916,  0.96589905,\n",
              "          0.48877254, -0.7589753 , -0.39253393, -0.28968164, -0.994846  ,\n",
              "          0.20713751, -0.74340105, -0.9993956 ,  0.9997354 , -0.5622503 ,\n",
              "          0.986483  ,  0.9737306 , -0.9972854 ,  0.7176284 , -0.99620223,\n",
              "         -0.04897617, -0.99982053,  0.19617008, -0.17990775, -0.15487365,\n",
              "         -0.1028688 ,  0.9942254 , -0.9875012 , -0.50078243,  0.6293277 ,\n",
              "         -0.9999233 ,  0.91650325, -0.349421  ,  0.999247  ,  0.58855194,\n",
              "         -0.26101887,  0.9828799 ,  0.8504096 , -0.9944781 , -0.99990046,\n",
              "          0.8463868 ,  0.99905276, -0.99615157, -0.21841055,  0.9999487 ,\n",
              "         -0.99241453, -0.86727047, -0.95789045, -0.99598366, -0.99978983,\n",
              "          0.01094398, -0.70246035,  0.10413476,  0.98958045, -0.00943513,\n",
              "          0.01457528,  0.99570197,  0.998844  ,  0.13140585, -0.0774205 ,\n",
              "          0.15452468, -0.984447  , -0.99911165,  0.699368  ,  0.20236114,\n",
              "         -0.9999755 ,  0.9998934 , -0.99596655,  0.9998185 ,  0.8472322 ,\n",
              "         -0.9795665 ,  0.8294859 , -0.0324035 , -0.9234903 ,  0.09030572,\n",
              "          0.9999189 ,  0.9889203 , -0.1479195 ,  0.11888816,  0.74896806,\n",
              "         -0.01304047,  0.39213482, -0.3352414 , -0.32374945,  0.38392428,\n",
              "         -0.95246583,  0.97653824,  0.5046485 , -0.99410677,  0.99110866,\n",
              "          0.04658342,  0.90016365, -0.5256784 ,  0.93852705,  0.99452686,\n",
              "         -0.10206573,  0.22886881, -0.34105474, -0.9547823 , -0.9446905 ,\n",
              "          0.20232244, -0.9896902 , -0.2831994 ,  0.9548298 ,  0.98512006,\n",
              "         -0.9785685 ,  0.99917454, -0.2930025 ,  0.7870496 , -0.9948966 ,\n",
              "          0.9999894 , -0.99901825,  0.17180046,  0.55449814, -0.53146094,\n",
              "          0.13795911,  0.99246264,  0.9645274 ,  0.94677866, -0.7668882 ,\n",
              "         -0.3397046 ,  0.8766282 ,  0.96704817, -0.96319294, -0.09353519,\n",
              "         -0.99722755, -0.30043113,  0.99735683,  0.9884546 , -0.07741703,\n",
              "         -0.65801364, -0.9927458 ,  0.9848126 , -0.7915402 , -0.6924117 ,\n",
              "         -0.2495105 , -0.6380731 ,  0.6857904 ,  0.9938585 , -0.2809558 ,\n",
              "          0.64027584,  0.27077118, -0.98893213,  0.47854805,  0.7356827 ,\n",
              "          0.9998388 , -0.98737496,  0.28830117,  0.9910192 , -0.23053256,\n",
              "         -0.7120075 ,  0.6490774 ,  0.99696594, -0.90894425, -0.33729887,\n",
              "         -0.9996276 ,  0.02426409, -0.5454783 ,  0.06767473, -0.18656515,\n",
              "          0.0627823 , -0.70959306,  0.91677976, -0.38042405,  0.8794118 ,\n",
              "         -0.23410992,  0.98899645,  0.10086812, -0.1475595 , -0.34551013,\n",
              "         -0.12539265,  0.46833995,  0.16444978,  0.98792815, -0.98654866,\n",
              "          0.99993795, -0.24933188, -0.9999609 , -0.98974305, -0.36767673,\n",
              "         -0.9999257 ,  0.39612624, -0.99909   ,  0.9901953 ,  0.8040612 ,\n",
              "         -0.9937886 , -0.9968376 , -0.9990995 , -0.999726  ,  0.714113  ,\n",
              "          0.49725085, -0.08681316,  0.27295008,  0.93423456,  0.19558282,\n",
              "          0.23272687, -0.30946738, -0.9632176 , -0.19822726, -0.994607  ,\n",
              "          0.60976547, -0.99998003, -0.7205567 ,  0.9954881 , -0.98679346,\n",
              "         -0.8672662 , -0.93028516, -0.07769881, -0.8693646 ,  0.5488471 ,\n",
              "          0.9913381 , -0.24944094, -0.06415877, -0.9998755 ,  0.9917064 ,\n",
              "         -0.7761613 ,  0.301671  , -0.77455705, -0.98652405,  0.9998875 ,\n",
              "          0.4054255 , -0.05141079, -0.16261515, -0.999481  ,  0.9692548 ,\n",
              "         -0.85593265, -0.8239451 , -0.9899158 ,  0.2177318 , -0.97906464,\n",
              "         -0.9999159 , -0.05962199,  0.9914902 ,  0.999086  ,  0.99037653,\n",
              "          0.64828604, -0.45378762, -0.9666223 ,  0.15739165, -0.99996686,\n",
              "          0.68795896,  0.75538427, -0.98829645, -0.6665829 ,  0.9968611 ,\n",
              "          0.9862083 , -0.88855124, -0.9778009 ,  0.8043331 ,  0.42076382,\n",
              "          0.9890621 , -0.20992221, -0.6368424 ,  0.31617346, -0.16898626,\n",
              "         -0.9956331 , -0.97238666,  0.9968059 , -0.99677587,  0.9899891 ,\n",
              "          0.9914171 ,  0.9962866 , -0.12319833, -0.00849367, -0.9694794 ,\n",
              "         -0.99940735, -0.70462626,  0.22394373, -0.9999507 ,  0.99995786,\n",
              "         -0.99997544,  0.538672  , -0.21632852,  0.78560126,  0.9903549 ,\n",
              "         -0.12006623, -0.999938  , -0.99989355,  0.24035434,  0.06620804,\n",
              "          0.9925148 ,  0.2464416 ,  0.22025459, -0.2096889 ,  0.26876435,\n",
              "          0.99755096, -0.813751  , -0.28239328, -0.99317527,  0.9997983 ,\n",
              "          0.7227602 , -0.9983695 ,  0.9857867 , -0.99978155,  0.7997959 ,\n",
              "          0.96789765,  0.94229484,  0.98252624, -0.99652034,  0.99998194,\n",
              "         -0.99991775,  0.99924654, -0.9999832 , -0.99666333,  0.9998894 ,\n",
              "         -0.9953998 , -0.12623814, -0.9998154 , -0.9935585 ,  0.19731282,\n",
              "          0.08234067, -0.5649368 ,  0.9887663 , -0.9998947 , -0.9989196 ,\n",
              "         -0.1859842 , -0.82032555, -0.5379307 ,  0.98797584, -0.26952893,\n",
              "          0.9891966 , -0.11604166,  0.9679801 , -0.05395559,  0.9908244 ,\n",
              "          0.999705  , -0.5884213 , -0.40061277, -0.99559885,  0.99661225,\n",
              "         -0.36721537,  0.35661876,  0.9747116 , -0.11342259, -0.5495112 ,\n",
              "          0.60881996, -0.99798435,  0.4600651 , -0.88648576,  0.84552705,\n",
              "          0.6839516 ,  0.8743269 , -0.12871441, -0.4726354 , -0.20522465,\n",
              "         -0.9953093 ,  0.5448516 , -0.99975175,  0.9934937 , -0.8694638 ,\n",
              "          0.15972798, -0.4914419 ,  0.515052  , -0.95759207,  0.9998018 ,\n",
              "          0.998979  , -0.99993545,  0.2209793 ,  0.9921589 , -0.37410223,\n",
              "          0.98777777, -0.9954645 , -0.12595348,  0.957306  , -0.7094519 ,\n",
              "          0.98922867,  0.24236374, -0.09242382,  0.9888005 , -0.9963378 ,\n",
              "         -0.7524206 , -0.8730195 ,  0.17660879,  0.57026184, -0.9757574 ,\n",
              "          0.22783706,  0.9674975 , -0.21905528, -0.99975693,  0.7058425 ,\n",
              "         -0.9995828 , -0.20072109,  0.985594  , -0.14733605,  0.99992263,\n",
              "         -0.5963628 , -0.01213032,  0.04321112, -0.9998281 , -0.99632686,\n",
              "          0.12752756, -0.33651957, -0.9222843 ,  0.99668396, -0.10504579,\n",
              "          0.5157093 , -0.9999578 ,  0.47460315,  0.99037784,  0.38727728,\n",
              "          0.8973325 , -0.2503959 , -0.9892651 , -0.92247254, -0.83480245,\n",
              "          0.02332485,  0.6623858 , -0.9023495 , -0.64294106, -0.70233226,\n",
              "          0.99997747, -0.9974626 , -0.93638366, -0.99591064,  0.27588594,\n",
              "          0.8254753 ,  0.3615617 ,  0.06684269, -0.7079209 ,  0.8584905 ,\n",
              "         -0.88134986,  0.9976745 , -0.99509054, -0.9957918 ,  0.99986136,\n",
              "          0.48061916, -0.9744982 ,  0.14257537, -0.40550768,  0.14161699,\n",
              "         -0.10132453,  0.72376627, -0.6912288 , -0.18356393, -0.99946   ,\n",
              "          0.6559833 , -0.57225525, -0.995218  , -0.75774944, -0.27309346,\n",
              "         -0.99988186,  0.99497694,  0.9787692 ,  0.999955  , -0.99983335,\n",
              "          0.9017881 ,  0.2179401 ,  0.99940246,  0.06074015, -0.7835632 ,\n",
              "          0.83224756,  0.9998623 , -0.55766726,  0.6923971 , -0.02102648,\n",
              "         -0.10218494,  0.1018713 , -0.40593767,  0.99180347, -0.9149077 ,\n",
              "          0.23570453, -0.99044436, -0.9999461 ,  0.99995995, -0.06806207,\n",
              "          0.9936783 ,  0.31958017,  0.7752368 , -0.93522394,  0.9709658 ,\n",
              "         -0.94942063, -0.9601382 , -0.99998283,  0.513944  , -0.9999305 ,\n",
              "         -0.9938147 ,  0.19577385,  0.98894775, -0.99975634, -0.9948309 ,\n",
              "         -0.25582954, -0.9999817 ,  0.7831259 , -0.97378707, -0.5904161 ,\n",
              "         -0.9899801 ,  0.9930473 , -0.41772312,  0.13017824,  0.98194045,\n",
              "         -0.97955173,  0.87810165,  0.90677655,  0.83887714,  0.35598952,\n",
              "          0.19711494, -0.78968906, -0.9847071 , -0.85694534, -0.9805511 ,\n",
              "          0.6372873 , -0.98807436, -0.88359743,  0.99791574,  0.99301875,\n",
              "         -0.99959725, -0.99703693,  0.9855159 ,  0.29889527,  0.9929867 ,\n",
              "         -0.71327764, -0.9999234 , -0.99991167,  0.05823366, -0.3279683 ,\n",
              "          0.99381226, -0.5171684 ,  0.99966604,  0.87244076, -0.05947876,\n",
              "          0.37146342, -0.38157442, -0.28845504, -0.08447573, -0.2508933 ,\n",
              "          0.9999831 , -0.61496073,  0.9918078 ]], dtype=float32)>,\n",
              " <tf.Tensor: shape=(1, 5, 768), dtype=float32, numpy=\n",
              " array([[[-0.02761571, -0.2852684 ,  0.01577167, ..., -0.07479335,\n",
              "           0.27727765,  0.01892186],\n",
              "         [-0.09298047, -0.5534743 ,  0.6475404 , ..., -0.0765559 ,\n",
              "           0.3369269 ,  0.18752933],\n",
              "         [ 0.01644601, -0.55119264,  0.08294685, ...,  0.11341012,\n",
              "           0.05380148,  0.3036809 ],\n",
              "         [-0.30470702, -0.5763851 , -0.05540591, ...,  0.04081569,\n",
              "           0.09130004,  0.22875403],\n",
              "         [ 0.43370828, -0.23419349, -0.20681833, ..., -0.5039404 ,\n",
              "           0.99379367, -0.19956625]]], dtype=float32)>]"
            ]
          },
          "metadata": {
            "tags": []
          },
          "execution_count": 43
        }
      ]
    },
    {
      "cell_type": "markdown",
      "metadata": {
        "id": "buRBm5SSw7pY",
        "colab_type": "text"
      },
      "source": [
        "In the above output, there are two tensors which are displayed for the \"sampleSent\". The first tensor corresponds to the \"CLS\" element which will be used for the classification task. The shape is (1,768) where \"1\" is the batch i.e we have given only one input and \"768\" is the embedding dimension. \n",
        "\n",
        "The second tensor is of shape (1,5,768). Again \"1\" is for the batch , \"5\" as we have total 5 tokens in our sample sentence and 768 is the embedding size.\n",
        "\n",
        "tf.cast = converts the list into a tensor.<br />\n",
        "tf.expand_dims = Returns a tensor with an additional dimension inserted at index axis.\n"
      ]
    },
    {
      "cell_type": "code",
      "metadata": {
        "id": "eaej5Ww5ed-a",
        "colab_type": "code",
        "colab": {}
      },
      "source": [
        "class MyCustomCallBack(tf.keras.callbacks.Callback):\n",
        "\n",
        "    def on_epoch_end(self, epoch, logs=None):\n",
        "        ckpt_manager.save()\n",
        "        print (\"Checkpoint is saved at {} \". format(checkpoint_path))"
      ],
      "execution_count": 0,
      "outputs": []
    },
    {
      "cell_type": "code",
      "metadata": {
        "id": "Ptu6nW4rwazm",
        "colab_type": "code",
        "colab": {}
      },
      "source": [
        "class DCNNBertEmbedding(tf.keras.Model):\n",
        "\n",
        "    def __init__(self,\n",
        "                 nb_filters=50,# 50 feature dectectors\n",
        "                 FFN_units=512, # number of hidden units in last 2 layers\n",
        "                 nb_classes=2,\n",
        "                 dropout_rate = 0.2,\n",
        "                 name = \"dcnn\"):\n",
        "        super(DCNNBertEmbedding, self).__init__(name=name)\n",
        "\n",
        "        self.bert_layer = hub.KerasLayer('https://tfhub.dev/tensorflow/bert_en_cased_L-12_H-768_A-12/1', trainable=False)\n",
        "\n",
        "        self.bigram = layers.Conv1D(filters=nb_filters, \n",
        "                                    kernel_size=2,\n",
        "                                    padding=\"valid\",\n",
        "                                    activation=\"relu\")\n",
        "        \n",
        "        self.trigram = layers.Conv1D(filters=nb_filters, \n",
        "                                    kernel_size=3,\n",
        "                                    padding=\"valid\",\n",
        "                                    activation=\"relu\")\n",
        "        \n",
        "        self.fourgram = layers.Conv1D(filters=nb_filters, \n",
        "                                    kernel_size=4,\n",
        "                                    padding=\"valid\",\n",
        "                                    activation=\"relu\")\n",
        "        \n",
        "        self.pool = layers.GlobalMaxPooling1D()\n",
        "\n",
        "        self.dense_1 = layers.Dense(units=FFN_units, activation=\"relu\")\n",
        "\n",
        "        self.dropout = layers.Dropout(rate=dropout_rate)\n",
        "\n",
        "        if nb_classes == 2:\n",
        "            self.last_dense = layers.Dense(units=1, activation=\"sigmoid\")\n",
        "        else:\n",
        "            self.last_dense = layers.Dense(units=nb_classes, activation=\"softmax\")\n",
        "\n",
        "    # The above function is similar to the regular embedding layer.\n",
        "    # \"_\" = returns the embedding for the \"CLS\" token \n",
        "    # embs = returns the embeddings for all the words.\n",
        "    def embed_with_bert(self, all_tokens):\n",
        "        _, embs = self.bert_layer([\n",
        "                                   all_tokens[:, 0, :],\n",
        "                                   all_tokens[:, 1, :],\n",
        "                                   all_tokens[:, 2, :],\n",
        "                                ])\n",
        "        return embs\n",
        "\n",
        "    def call(self, inputs, training):\n",
        "\n",
        "        x = self.embed_with_bert(inputs)\n",
        "        x_1 = self.bigram(x)\n",
        "        x_1 = self.pool(x_1)\n",
        "\n",
        "        x_2 = self.trigram(x)\n",
        "        x_2 = self.pool(x_2)\n",
        "\n",
        "        x_3 = self.fourgram(x)\n",
        "        x_3 = self.pool(x_3)\n",
        "\n",
        "        merged = tf.concat([x_1, x_2, x_3], axis=-1) # batch_size = 3*nb_filters\n",
        "        merged = self.dense_1(merged)\n",
        "        merged = self.dropout(merged, training)\n",
        "        output = self.last_dense(merged)\n",
        "\n",
        "        return output\n"
      ],
      "execution_count": 0,
      "outputs": []
    },
    {
      "cell_type": "code",
      "metadata": {
        "id": "7F86eD2VzYHR",
        "colab_type": "code",
        "colab": {}
      },
      "source": [
        "NB_FILTERS = 100\n",
        "FFN_UNITS = 256\n",
        "NB_CLASSES = 2\n",
        "DROPOUT_RATE = 0.2\n",
        "NB_EPOCHS = 5\n",
        "\n",
        "dcnn = DCNNBertEmbedding(\n",
        "            nb_filters=NB_FILTERS,\n",
        "            FFN_units=FFN_UNITS,\n",
        "            dropout_rate=DROPOUT_RATE)\n",
        "\n",
        "if NB_CLASSES == 2:\n",
        "    dcnn.compile(loss=\"binary_crossentropy\",\n",
        "                 optimizer=\"adam\",\n",
        "                 metrics=['accuracy'])\n",
        "else:\n",
        "    dcnn.compile(loss=\"sparse_categorical_crossentropy\",\n",
        "                 optimizer=\"adam\",\n",
        "                 metrics=['sparse_categorical_accuracy'])\n",
        "    \n",
        "checkpoint_path = \"/content/drive/My Drive/Colab Notebooks/ckpt_bert_embedding\"\n",
        "\n",
        "ckpt = tf.train.Checkpoint(dcnn=dcnn)\n",
        "ckpt_manager = tf.train.CheckpointManager(ckpt, checkpoint_path, max_to_keep=1)\n",
        "\n",
        "if ckpt_manager.latest_checkpoint:\n",
        "    ckpt.restore(ckpt_manager.latest_checkpoint)\n",
        "    print (\"Latest checkpoint is restored\")"
      ],
      "execution_count": 0,
      "outputs": []
    },
    {
      "cell_type": "code",
      "metadata": {
        "id": "daXGrCJHD5mZ",
        "colab_type": "code",
        "colab": {
          "base_uri": "https://localhost:8080/",
          "height": 51
        },
        "outputId": "5152b796-5e6c-4f26-b242-6db46da4ccbd"
      },
      "source": [
        "dcnn.fit(train_dataset,\n",
        "         epochs=NB_EPOCHS,\n",
        "         callbacks=[MyCustomCallBack()])\n"
      ],
      "execution_count": 0,
      "outputs": [
        {
          "output_type": "stream",
          "text": [
            "Epoch 1/5\n",
            "    909/Unknown - 1037s 1s/step - loss: 0.4552 - accuracy: 0.7880"
          ],
          "name": "stdout"
        }
      ]
    },
    {
      "cell_type": "code",
      "metadata": {
        "id": "ijk-ikd3ESLo",
        "colab_type": "code",
        "colab": {}
      },
      "source": [
        ""
      ],
      "execution_count": 0,
      "outputs": []
    }
  ]
}